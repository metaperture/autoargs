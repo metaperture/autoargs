{
 "cells": [
  {
   "cell_type": "code",
   "execution_count": 1,
   "metadata": {
    "collapsed": true
   },
   "outputs": [],
   "source": [
    "from imp import reload\n",
    "import autoargs; reload(autoargs);"
   ]
  },
  {
   "cell_type": "markdown",
   "metadata": {},
   "source": [
    "## argparse made easy!"
   ]
  },
  {
   "cell_type": "code",
   "execution_count": 2,
   "metadata": {
    "collapsed": false
   },
   "outputs": [
    {
     "name": "stdout",
     "output_type": "stream",
     "text": [
      "arg1: first\n",
      "arg2: second\n"
     ]
    }
   ],
   "source": [
    "# pass your function and args from your sys.argv, and you're off to the races!\n",
    "def myprint(arg1, arg2):\n",
    "    print(\"arg1:\", arg1)\n",
    "    print(\"arg2:\", arg2)\n",
    "autoargs.autocall(myprint, [\"first\", \"second\"])"
   ]
  },
  {
   "cell_type": "code",
   "execution_count": 3,
   "metadata": {
    "collapsed": false
   },
   "outputs": [
    {
     "name": "stdout",
     "output_type": "stream",
     "text": [
      "args are easy!\n",
      "args are easy!\n",
      "args are easy!\n",
      "still easy!\n",
      "still easy!\n",
      "still easy!\n"
     ]
    }
   ],
   "source": [
    "# if you want your arguments to be types, use any function that expects a string\n",
    "#  and returns the type you want in your arg annotation\n",
    "def str_repeat(s: str, n: int):\n",
    "    print((s * n).strip())\n",
    "autoargs.autocall(str_repeat, [\"args are easy!\\n\", \"3\"])\n",
    "# if your args value is a string, it gets split using shlex\n",
    "autoargs.autocall(str_repeat, \"'still easy!\\n' 3\")"
   ]
  },
  {
   "cell_type": "code",
   "execution_count": 4,
   "metadata": {
    "collapsed": false
   },
   "outputs": [
    {
     "name": "stdout",
     "output_type": "stream",
     "text": [
      "25.0\n",
      "pretty easy, right?\n"
     ]
    }
   ],
   "source": [
    "import functools\n",
    "import operator\n",
    "# varargs are supported too!\n",
    "def product(*args: float):\n",
    "    return functools.reduce(operator.mul, args, 1.0)\n",
    "print(autoargs.autocall(product, [\"5\", \"10\", \"0.5\"]))\n",
    "\n",
    "def join(delimiter, *args):\n",
    "    return delimiter.join(args)\n",
    "print(autoargs.autocall(join, [\", \", \"pretty easy\", \"right?\"]))"
   ]
  },
  {
   "cell_type": "code",
   "execution_count": 9,
   "metadata": {
    "collapsed": false
   },
   "outputs": [
    {
     "name": "stdout",
     "output_type": "stream",
     "text": [
      "cat: autoargs.__file__: No such file or directory\r\n"
     ]
    }
   ],
   "source": [
    "!cat autoargs.__file__"
   ]
  },
  {
   "cell_type": "code",
   "execution_count": 7,
   "metadata": {
    "collapsed": false
   },
   "outputs": [
    {
     "data": {
      "text/plain": [
       "'/home/metaperture/miniconda3/envs/std/lib/python3.5/site-packages/autoargs.py'"
      ]
     },
     "execution_count": 7,
     "metadata": {},
     "output_type": "execute_result"
    }
   ],
   "source": [
    "autoargs.__file__"
   ]
  },
  {
   "cell_type": "code",
   "execution_count": 5,
   "metadata": {
    "collapsed": false
   },
   "outputs": [
    {
     "name": "stdout",
     "output_type": "stream",
     "text": [
      "usage: aggregate [-h] --op {mul,sum} [args [args ...]]\n",
      "\n",
      "positional arguments:\n",
      "  args\n",
      "\n",
      "optional arguments:\n",
      "  -h, --help      show this help message and exit\n",
      "  --op {mul,sum}\n"
     ]
    },
    {
     "ename": "SystemExit",
     "evalue": "0",
     "output_type": "error",
     "traceback": [
      "An exception has occurred, use %tb to see the full traceback.\n",
      "\u001b[1;31mSystemExit\u001b[0m\u001b[1;31m:\u001b[0m 0\n"
     ]
    },
    {
     "name": "stderr",
     "output_type": "stream",
     "text": [
      "To exit: use 'exit', 'quit', or Ctrl-D.\n"
     ]
    }
   ],
   "source": [
    "def aggregate(*args: float, op: {'sum', 'mul'}):\n",
    "    if op == \"sum\":\n",
    "        return sum(args)\n",
    "    elif op == \"mul\":\n",
    "        return product(*args)\n",
    "autoargs.autocall(aggregate, [\"--help\"])"
   ]
  },
  {
   "cell_type": "code",
   "execution_count": 6,
   "metadata": {
    "collapsed": false
   },
   "outputs": [
    {
     "name": "stdout",
     "output_type": "stream",
     "text": [
      "default-a b default\n",
      "Override! b default\n",
      "Override! b default\n",
      "default-a Override!\n"
     ]
    }
   ],
   "source": [
    "# kwargs are supported using command-line syntax\n",
    "def land_of_defaults(a=\"default-a\", argb=\"b default\"):\n",
    "    print(a, argb)\n",
    "autoargs.autocall(land_of_defaults, []) # => \"\" (no args in call)\n",
    "autoargs.autocall(land_of_defaults, ['-aOverride!']) # => \"-aOverride!\"\n",
    "autoargs.autocall(land_of_defaults, ['-a', 'Override!']) # => \"-a Override!\"\n",
    "autoargs.autocall(land_of_defaults, ['--argb', 'Override!']) # => \"--argb Override!\"\n",
    "# warning! if an argument has a default, it can only be given via this kwarg syntax"
   ]
  },
  {
   "cell_type": "code",
   "execution_count": 7,
   "metadata": {
    "collapsed": false
   },
   "outputs": [
    {
     "name": "stdout",
     "output_type": "stream",
     "text": [
      "normal boring val\n"
     ]
    },
    {
     "name": "stderr",
     "output_type": "stream",
     "text": [
      "usage: required_arg [-h] [--default DEFAULT] --required REQUIRED normal\n",
      "required_arg: error: the following arguments are required: --required\n"
     ]
    },
    {
     "ename": "SystemExit",
     "evalue": "2",
     "output_type": "error",
     "traceback": [
      "An exception has occurred, use %tb to see the full traceback.\n",
      "\u001b[1;31mSystemExit\u001b[0m\u001b[1;31m:\u001b[0m 2\n"
     ]
    },
    {
     "name": "stderr",
     "output_type": "stream",
     "text": [
      "To exit: use 'exit', 'quit', or Ctrl-D.\n"
     ]
    }
   ],
   "source": [
    "# if you want to require a kwarg, use a kwonly-arg\n",
    "def required_arg(normal, default=\"boring\", *, required):\n",
    "    print(normal, default, required)\n",
    "autoargs.autocall(required_arg, [\"normal\", \"--required\", \"val\"])\n",
    "autoargs.autocall(required_arg, [\"normal\"])"
   ]
  },
  {
   "cell_type": "markdown",
   "metadata": {},
   "source": [
    "### Invalid Arg Handling\n",
    "\n",
    "Speaking of errors, invalid arguments are caught by the parser. This means that you get CLI-like error messages, like the user would be expecting if this were a CLI interface."
   ]
  },
  {
   "cell_type": "code",
   "execution_count": 7,
   "metadata": {
    "collapsed": false
   },
   "outputs": [
    {
     "name": "stderr",
     "output_type": "stream",
     "text": [
      "usage: oops [-h] arg\n",
      "oops: error: the following arguments are required: arg\n"
     ]
    },
    {
     "ename": "SystemExit",
     "evalue": "2",
     "output_type": "error",
     "traceback": [
      "An exception has occurred, use %tb to see the full traceback.\n",
      "\u001b[1;31mSystemExit\u001b[0m\u001b[1;31m:\u001b[0m 2\n"
     ]
    },
    {
     "name": "stderr",
     "output_type": "stream",
     "text": [
      "To exit: use 'exit', 'quit', or Ctrl-D.\n"
     ]
    }
   ],
   "source": [
    "def oops(arg: int):\n",
    "    return \"%s is an integer!\" % arg\n",
    "autoargs.autocall(oops, [])"
   ]
  },
  {
   "cell_type": "code",
   "execution_count": 8,
   "metadata": {
    "collapsed": false
   },
   "outputs": [
    {
     "name": "stderr",
     "output_type": "stream",
     "text": [
      "usage: oops [-h] arg\n",
      "oops: error: argument arg: invalid int value: 'spam'\n"
     ]
    },
    {
     "ename": "SystemExit",
     "evalue": "2",
     "output_type": "error",
     "traceback": [
      "An exception has occurred, use %tb to see the full traceback.\n",
      "\u001b[1;31mSystemExit\u001b[0m\u001b[1;31m:\u001b[0m 2\n"
     ]
    },
    {
     "name": "stderr",
     "output_type": "stream",
     "text": [
      "To exit: use 'exit', 'quit', or Ctrl-D.\n"
     ]
    }
   ],
   "source": [
    "autoargs.autocall(oops, [\"spam\"])"
   ]
  },
  {
   "cell_type": "code",
   "execution_count": 9,
   "metadata": {
    "collapsed": false
   },
   "outputs": [
    {
     "name": "stderr",
     "output_type": "stream",
     "text": [
      "usage: oops [-h] arg\n",
      "oops: error: unrecognized arguments: spam\n"
     ]
    },
    {
     "ename": "SystemExit",
     "evalue": "2",
     "output_type": "error",
     "traceback": [
      "An exception has occurred, use %tb to see the full traceback.\n",
      "\u001b[1;31mSystemExit\u001b[0m\u001b[1;31m:\u001b[0m 2\n"
     ]
    },
    {
     "name": "stderr",
     "output_type": "stream",
     "text": [
      "To exit: use 'exit', 'quit', or Ctrl-D.\n"
     ]
    }
   ],
   "source": [
    "autoargs.autocall(oops, [\"20\", \"spam\"])"
   ]
  },
  {
   "cell_type": "markdown",
   "metadata": {},
   "source": [
    "## parser"
   ]
  },
  {
   "cell_type": "code",
   "execution_count": 10,
   "metadata": {
    "collapsed": false
   },
   "outputs": [
    {
     "data": {
      "text/plain": [
       "ArgumentParser(prog='myprint', usage=None, description=None, formatter_class=<class 'argparse.HelpFormatter'>, conflict_handler='error', add_help=True)"
      ]
     },
     "execution_count": 10,
     "metadata": {},
     "output_type": "execute_result"
    }
   ],
   "source": [
    "# if you want access to the parser, go right ahead!\n",
    "parser = autoargs.autoparser(myprint)\n",
    "parser"
   ]
  },
  {
   "cell_type": "code",
   "execution_count": 11,
   "metadata": {
    "collapsed": false
   },
   "outputs": [
    {
     "data": {
      "text/plain": [
       "Namespace(arg1='first', arg2='second')"
      ]
     },
     "execution_count": 11,
     "metadata": {},
     "output_type": "execute_result"
    }
   ],
   "source": [
    "parsed = parser.parse_args([\"first\", \"second\"])\n",
    "parsed"
   ]
  },
  {
   "cell_type": "code",
   "execution_count": 12,
   "metadata": {
    "collapsed": false
   },
   "outputs": [
    {
     "data": {
      "text/plain": [
       "{'arg1': 'first', 'arg2': 'second'}"
      ]
     },
     "execution_count": 12,
     "metadata": {},
     "output_type": "execute_result"
    }
   ],
   "source": [
    "vars(parsed)"
   ]
  },
  {
   "cell_type": "markdown",
   "metadata": {},
   "source": [
    "## todo:\n",
    "\n",
    " - parsing a whole module/object (fns become subparsers)\n",
    " - using autoargs to call other module's fns from command line\n",
    " - setup.py\n",
    " - add to pypi\n",
    " - proper docs\n",
    " - all of the above with appropriate testing\n",
    " \n",
    "stay tuned for these and (potentially) other ideas! feel free to add issues"
   ]
  }
 ],
 "metadata": {
  "kernelspec": {
   "display_name": "Python 3",
   "language": "python",
   "name": "python3"
  },
  "language_info": {
   "codemirror_mode": {
    "name": "ipython",
    "version": 3
   },
   "file_extension": ".py",
   "mimetype": "text/x-python",
   "name": "python",
   "nbconvert_exporter": "python",
   "pygments_lexer": "ipython3",
   "version": "3.5.1"
  }
 },
 "nbformat": 4,
 "nbformat_minor": 0
}
